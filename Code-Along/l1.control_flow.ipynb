{
 "cells": [
  {
   "cell_type": "code",
   "execution_count": 41,
   "metadata": {},
   "outputs": [
    {
     "ename": "NameError",
     "evalue": "name 'conditional' is not defined",
     "output_type": "error",
     "traceback": [
      "\u001b[0;31m---------------------------------------------------------------------------\u001b[0m",
      "\u001b[0;31mNameError\u001b[0m                                 Traceback (most recent call last)",
      "Cell \u001b[0;32mIn[41], line 4\u001b[0m\n\u001b[1;32m      1\u001b[0m f \u001b[38;5;241m=\u001b[39m \u001b[38;5;28;01mFalse\u001b[39;00m\n\u001b[1;32m      2\u001b[0m t \u001b[38;5;241m=\u001b[39m \u001b[38;5;28;01mTrue\u001b[39;00m\n\u001b[0;32m----> 4\u001b[0m \u001b[38;5;28;01mif\u001b[39;00m \u001b[43mconditional\u001b[49m:\n\u001b[1;32m      5\u001b[0m     statements\n\u001b[1;32m      6\u001b[0m     \u001b[38;5;241m.\u001b[39m\u001b[38;5;241m.\u001b[39m\u001b[38;5;241m.\u001b[39m\n",
      "\u001b[0;31mNameError\u001b[0m: name 'conditional' is not defined"
     ]
    }
   ],
   "source": [
    "f = False\n",
    "t = True\n",
    "\n",
    "if conditional:\n",
    "    statements\n",
    "    ...\n",
    "else:\n",
    "    statements\n",
    "    ..."
   ]
  },
  {
   "cell_type": "code",
   "execution_count": 5,
   "metadata": {},
   "outputs": [
    {
     "name": "stdout",
     "output_type": "stream",
     "text": [
      "Du får se filmen! Välkommen.\n"
     ]
    }
   ],
   "source": [
    "age = int(input(\"Enter your age: \"))\n",
    "age_limit = 15\n",
    "\n",
    "if age >= age_limit:\n",
    "    print(\"Du får se filmen! Välkommen.\")\n",
    "else:\n",
    "    print(\"Åldergräns är 15 år, pröva en annan film.\")"
   ]
  },
  {
   "cell_type": "code",
   "execution_count": 6,
   "metadata": {},
   "outputs": [
    {
     "name": "stdout",
     "output_type": "stream",
     "text": [
      "Odd number!\n"
     ]
    }
   ],
   "source": [
    "number = 5\n",
    "if number % 2 == 0:\n",
    "    print(\"Even number!\")\n",
    "if number % 2 != 0:\n",
    "    print(\"Odd number!\")"
   ]
  },
  {
   "cell_type": "code",
   "execution_count": 9,
   "metadata": {},
   "outputs": [
    {
     "name": "stdout",
     "output_type": "stream",
     "text": [
      "False\n"
     ]
    }
   ],
   "source": [
    "weight = float(input(\"Input your weight (kg)\" ))\n",
    "if weight < 20:\n",
    "    print(\"Give patient 500mg\")\n",
    "elif weight < 40:\n",
    "    print(\"Give patient 749 mg\")\n",
    "else:\n",
    "    print(\"Give patient 1000mg\")"
   ]
  },
  {
   "cell_type": "code",
   "execution_count": 15,
   "metadata": {},
   "outputs": [
    {
     "data": {
      "text/plain": [
       "True"
      ]
     },
     "execution_count": 15,
     "metadata": {},
     "output_type": "execute_result"
    }
   ],
   "source": [
    "a = 3 < 2\n",
    "b = 3 <= 3\n",
    "c = 4 > 2\n",
    "d = 5 >= 4\n",
    "e = 5 == 5\n",
    "f = 5 != 4\n",
    "g = 3 > 2 and 2 > 1\n",
    "h = 3 > 3 or 3 < 2\n",
    "i = not False == True\n",
    "j = not i\n",
    "p = \"a2\" < \"aa\"\n",
    "p"
   ]
  },
  {
   "cell_type": "code",
   "execution_count": null,
   "metadata": {},
   "outputs": [],
   "source": [
    "while condition:\n",
    "    statements\n",
    "    ...."
   ]
  },
  {
   "cell_type": "code",
   "execution_count": 22,
   "metadata": {},
   "outputs": [
    {
     "name": "stdout",
     "output_type": "stream",
     "text": [
      "Still true 2\n",
      "Still true 4\n",
      "Still true 6\n",
      "Still true 8\n",
      "Still true 10\n",
      "Still true 12\n"
     ]
    }
   ],
   "source": [
    "n = 0\n",
    "while n <= 10:        \n",
    "    n = n + 2\n",
    "    print(f\"Still true {n}\")\n",
    "    "
   ]
  },
  {
   "cell_type": "markdown",
   "metadata": {},
   "source": [
    "Example - oil leakage\n",
    "\n",
    "There is an oil leakage causing the bird population on an island to halve each year. Fromn the start there were 80000 birds, how many years does it take until only one tenth are remaining?"
   ]
  },
  {
   "cell_type": "code",
   "execution_count": 23,
   "metadata": {},
   "outputs": [
    {
     "name": "stdout",
     "output_type": "stream",
     "text": [
      "Year 0, 80000 birds\n",
      "Year 1, 40000 birds\n",
      "Year 2, 20000 birds\n",
      "Year 3, 10000 birds\n",
      "it takes 4 years for the birds to reach one tenth.\n"
     ]
    }
   ],
   "source": [
    "birds = 80000\n",
    "year = 0\n",
    "\n",
    "while birds > 8000:\n",
    "    print(f\"Year {year}, {birds:.0f} birds\")\n",
    "    birds /= 2\n",
    "    year += 1\n",
    "\n",
    "print(f\"it takes {year} years for the birds to reach one tenth.\")"
   ]
  },
  {
   "cell_type": "markdown",
   "metadata": {},
   "source": [
    "Shorthand assignment operators:\n",
    "\n",
    "=  | a = b | a is set to b\n",
    "+= | x += 2 | x = x + 2\n",
    "-= | x -= 1 | x = x - 1\n",
    "/= | x /= b | x = x / b\n",
    "*= | x *= b | x = x * b"
   ]
  },
  {
   "cell_type": "code",
   "execution_count": 28,
   "metadata": {},
   "outputs": [
    {
     "name": "stdout",
     "output_type": "stream",
     "text": [
      "-9 -7 -5 -3 -1 1 3 5 7 9 "
     ]
    }
   ],
   "source": [
    "n = -9\n",
    "while n <= 10:\n",
    "    print(n, end=\" \")\n",
    "    n += 2\n"
   ]
  },
  {
   "cell_type": "code",
   "execution_count": 29,
   "metadata": {},
   "outputs": [
    {
     "name": "stdout",
     "output_type": "stream",
     "text": [
      "23 is wrong!\n",
      "Good bye!\n"
     ]
    }
   ],
   "source": [
    "import random as rng\n",
    "\n",
    "while True:\n",
    "    number1 = rng.randint(1, 10)\n",
    "    number2 = rng.randint(1, 10)\n",
    "\n",
    "    user_answer = int(input(f\"What is {number1} * {number2}?\"))\n",
    "    if user_answer == number1*number2:\n",
    "        print(\"Correct!\")\n",
    "    else:\n",
    "        print(f\"{user_answer} is wrong!\")\n",
    "\n",
    "    play_again = input(\"Want to play again? (y for yes)\")\n",
    "\n",
    "    if play_again != \"y\":\n",
    "        print(\"Good bye!\")\n",
    "        break"
   ]
  },
  {
   "cell_type": "code",
   "execution_count": 35,
   "metadata": {},
   "outputs": [
    {
     "name": "stdout",
     "output_type": "stream",
     "text": [
      "10\n",
      "9\n",
      "8\n",
      "7\n",
      "6\n",
      "5\n",
      "4\n",
      "3\n"
     ]
    }
   ],
   "source": [
    "for i in range(10, 2, -1):\n",
    "    print(i)"
   ]
  },
  {
   "cell_type": "code",
   "execution_count": 36,
   "metadata": {},
   "outputs": [
    {
     "name": "stdout",
     "output_type": "stream",
     "text": [
      "1\n",
      "2\n",
      "43\n",
      "6\n",
      "4\n",
      "3\n",
      "6\n",
      "4\n",
      "43\n"
     ]
    }
   ],
   "source": [
    "ls = [1,2,43,6,4,3,6,4,43]\n",
    "\n",
    "for l in ls:\n",
    "    print(l)"
   ]
  },
  {
   "cell_type": "code",
   "execution_count": 44,
   "metadata": {},
   "outputs": [
    {
     "name": "stdout",
     "output_type": "stream",
     "text": [
      "a aval\n",
      "b bval\n",
      "c cval\n"
     ]
    }
   ],
   "source": [
    "ds = {\"a\": \"aval\", \"b\": \"bval\", \"c\": \"cval\"}\n",
    "\n",
    "for k, v in ds.items():\n",
    "    print(k, v)"
   ]
  },
  {
   "cell_type": "code",
   "execution_count": 45,
   "metadata": {},
   "outputs": [
    {
     "name": "stdout",
     "output_type": "stream",
     "text": [
      "0. apple\n",
      "1. orange\n",
      "2. strawberry\n",
      "3. åkerbär\n"
     ]
    }
   ],
   "source": [
    "fruits = [\"apple\", \"orange\", \"strawberry\", \"åkerbär\"]\n",
    "\n",
    "for i, f in enumerate(fruits):\n",
    "    print(f\"{i}. {f}\")"
   ]
  },
  {
   "cell_type": "code",
   "execution_count": 46,
   "metadata": {},
   "outputs": [
    {
     "name": "stdout",
     "output_type": "stream",
     "text": [
      "1+3+5+7+9+11+13+15+17+19=100"
     ]
    }
   ],
   "source": [
    "sum = 0\n",
    "\n",
    "for i in range(1, 20, 2):\n",
    "    sum += i\n",
    "\n",
    "    print(i, end=\"\")\n",
    "    if i != 19:\n",
    "        print(\"+\", end=\"\")\n",
    "\n",
    "    if i == 19:\n",
    "        print(f\"={sum}\", end=\"\")"
   ]
  },
  {
   "cell_type": "code",
   "execution_count": 47,
   "metadata": {},
   "outputs": [
    {
     "name": "stdout",
     "output_type": "stream",
     "text": [
      "(0, 0)(0, 1)(0, 2)\n",
      "(1, 0)(1, 1)(1, 2)\n",
      "(2, 0)(2, 1)(2, 2)\n"
     ]
    }
   ],
   "source": [
    "for x in range(0,3):\n",
    "    for y in range(0,3):\n",
    "        print(f\"({x}, {y})\", end=\"\")\n",
    "    print()"
   ]
  },
  {
   "cell_type": "code",
   "execution_count": 51,
   "metadata": {},
   "outputs": [
    {
     "name": "stdout",
     "output_type": "stream",
     "text": [
      "Number of sixes 1664998 in 10000000 dice rolls.\n",
      "Probability of six: 0.1664998\n"
     ]
    }
   ],
   "source": [
    "import random as rng\n",
    "num_sixes = 0\n",
    "dice_rolls = 100000000\n",
    "\n",
    "for i in range(dice_rolls):\n",
    "    dice = rng.randint(1,6)\n",
    "    if dice == 6:\n",
    "        num_sixes += 1\n",
    "\n",
    "print(f\"Number of sixes {num_sixes} in {dice_rolls} dice rolls.\")\n",
    "print(f\"Probability of six: {num_sixes / dice_rolls}\")\n"
   ]
  }
 ],
 "metadata": {
  "kernelspec": {
   "display_name": ".venv",
   "language": "python",
   "name": "python3"
  },
  "language_info": {
   "codemirror_mode": {
    "name": "ipython",
    "version": 3
   },
   "file_extension": ".py",
   "mimetype": "text/x-python",
   "name": "python",
   "nbconvert_exporter": "python",
   "pygments_lexer": "ipython3",
   "version": "3.12.5"
  }
 },
 "nbformat": 4,
 "nbformat_minor": 2
}
