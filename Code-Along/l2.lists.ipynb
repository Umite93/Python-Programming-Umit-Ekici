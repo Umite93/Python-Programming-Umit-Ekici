{
 "cells": [
  {
   "cell_type": "code",
   "execution_count": 68,
   "metadata": {},
   "outputs": [
    {
     "name": "stdout",
     "output_type": "stream",
     "text": [
      "tv_shows[0]: Antikrundan\n",
      "tv_shows[1]: Mästerkockarna\n",
      "tv_shows[-1]: Talang\n"
     ]
    }
   ],
   "source": [
    "tv_shows = [\"Antikrundan\", \"Mästerkockarna\", \"Aktuellt\", \"Talang\"]\n",
    "print(f\"tv_shows[0]: {tv_shows[0]}\")\n",
    "print(f\"tv_shows[1]: {tv_shows[1]}\")\n",
    "\n",
    "print(f\"tv_shows[-1]: {tv_shows[-1]}\")"
   ]
  },
  {
   "cell_type": "code",
   "execution_count": 69,
   "metadata": {},
   "outputs": [
    {
     "name": "stdout",
     "output_type": "stream",
     "text": [
      "Added an element: ['Vetenskapens värld', 'Mästerkockarna', 'Aktuellt', 'Talang', 'Pokemon']\n"
     ]
    }
   ],
   "source": [
    "tv_shows[0] = \"Vetenskapens värld\"\n",
    "\n",
    "tv_shows.append(\"Pokemon\")\n",
    "\n",
    "print(f\"Added an element: {tv_shows}\")"
   ]
  },
  {
   "cell_type": "code",
   "execution_count": 70,
   "metadata": {},
   "outputs": [
    {
     "name": "stdout",
     "output_type": "stream",
     "text": [
      "['Mästerkockarna', 'Aktuellt']\n"
     ]
    }
   ],
   "source": [
    "print(tv_shows[1:3])"
   ]
  },
  {
   "cell_type": "code",
   "execution_count": 71,
   "metadata": {},
   "outputs": [
    {
     "name": "stdout",
     "output_type": "stream",
     "text": [
      "['zeta', 'iota', 'gamma', 'beta', 'alfa'] ['zeta', 'iota', 'gamma', 'beta', 'alfa']\n"
     ]
    }
   ],
   "source": [
    "greek_letters = [\"beta\", \"alfa\", \"zeta\", \"gamma\", \"iota\"]\n",
    "sort_letters = sorted(greek_letters, reverse=True)\n",
    "greek_letters.sort(reverse=True)\n",
    "print(greek_letters, sort_letters)"
   ]
  },
  {
   "cell_type": "code",
   "execution_count": 72,
   "metadata": {},
   "outputs": [
    {
     "data": {
      "text/plain": [
       "(1.5615528128088303, -2.5615528128088303)"
      ]
     },
     "execution_count": 72,
     "metadata": {},
     "output_type": "execute_result"
    }
   ],
   "source": [
    "import numpy\n",
    "# Quadratic solver\n",
    "\n",
    "# ax² + bx + c = 0\n",
    "# representera som [a, b, c]\n",
    "\n",
    "coeff = [1, 1, 4]\n",
    "\n",
    "a = coeff[0]\n",
    "b = coeff[1]\n",
    "c = coeff[2]\n",
    "\n",
    "x1 = numpy.divide(-b + numpy.sqrt(numpy.square(-b) + 4*a*c), 2*a)\n",
    "x2 = numpy.divide(-b - numpy.sqrt(numpy.square(-b) + 4*a*c), 2*a)\n",
    "x1, x2"
   ]
  },
  {
   "cell_type": "code",
   "execution_count": null,
   "metadata": {},
   "outputs": [],
   "source": [
    "def quad_solve(a, b, c):\n",
    "    x1 = numpy.divide(-b + numpy.sqrt(numpy.square(-b) + 4*a*c), 2*a)\n",
    "    x2 = numpy.divide(-b - numpy.sqrt(numpy.square(-b) + 4*a*c), 2*a)\n",
    "    return (x1, x2)\n"
   ]
  },
  {
   "cell_type": "code",
   "execution_count": 75,
   "metadata": {},
   "outputs": [
    {
     "data": {
      "text/plain": [
       "True"
      ]
     },
     "execution_count": 75,
     "metadata": {},
     "output_type": "execute_result"
    }
   ],
   "source": [
    "# Linear and affine equations\n",
    "# Linear: L(u) + L(v) = L(u+v)\n",
    "def f(x):\n",
    "    return 2*x + 3\n",
    "\n",
    "# lutning\n",
    "# k = y2- y1 / x2 - x1\n",
    "# y - y1 = k(x-x1)\n",
    "#k = ((f(1) - f(2)) / (1-2))\n",
    "\n",
    "\n",
    "# Är affina funktioner linjära? Mja, nästan:\n",
    "def g(x):\n",
    "    return f(x) - f(0) \n",
    "\n",
    "g(1) + g(2) == g(1+2)\n",
    "\n",
    "# g är linjär, men f är _affin_"
   ]
  },
  {
   "cell_type": "markdown",
   "metadata": {},
   "source": [
    "$\\{x\\in \\mathbb{N} | x \\texttt{ is even}\\}$"
   ]
  },
  {
   "cell_type": "code",
   "execution_count": 8,
   "metadata": {},
   "outputs": [
    {
     "name": "stdout",
     "output_type": "stream",
     "text": [
      "[2, 4, 2]\n"
     ]
    }
   ],
   "source": [
    "ls = [1,2,3,4,5]\n",
    "my_list = [l for l in ls if l % 2 == 0]\n",
    "my_list.append(2)\n",
    "print(my_list)"
   ]
  },
  {
   "cell_type": "code",
   "execution_count": 12,
   "metadata": {},
   "outputs": [
    {
     "name": "stdout",
     "output_type": "stream",
     "text": [
      "{1, 2, 3, 4, 5, 6, 7, 8, 9, 10}\n"
     ]
    }
   ],
   "source": [
    "lst = {i for i in range(1,11)}\n",
    "lst.add(1)\n",
    "print(lst)"
   ]
  },
  {
   "cell_type": "code",
   "execution_count": 17,
   "metadata": {},
   "outputs": [
    {
     "data": {
      "text/plain": [
       "Text(0, 0.5, 'y')"
      ]
     },
     "execution_count": 17,
     "metadata": {},
     "output_type": "execute_result"
    },
    {
     "data": {
      "image/png": "[encoded data removed]",
      "text/plain": [
       "<Figure size 640x480 with 1 Axes>"
      ]
     },
     "metadata": {},
     "output_type": "display_data"
    }
   ],
   "source": [
    "import matplotlib.pyplot as plt\n",
    "x = list(range(10))\n",
    "k = 2\n",
    "m = 0\n",
    "y = [k*x+m for x in x]\n",
    "\n",
    "\n",
    "plt.plot(x,y)\n",
    "plt.title(\"Plot y = 2x + 2\")\n",
    "plt.xlabel(\"x\")\n",
    "plt.ylabel(\"y\")"
   ]
  },
  {
   "cell_type": "markdown",
   "metadata": {},
   "source": [
    "###  Regular expressions\n",
    "\n"
   ]
  },
  {
   "cell_type": "code",
   "execution_count": 18,
   "metadata": {},
   "outputs": [
    {
     "name": "stdout",
     "output_type": "stream",
     "text": [
      "['katt', 'hatt']\n"
     ]
    }
   ],
   "source": [
    "import re\n",
    "\n",
    "text = \"Det var en gång en katt som tog på sig en hatt.\"\n",
    "match_list = re.findall(r\".att\", text)\n",
    "print(match_list)"
   ]
  },
  {
   "cell_type": "code",
   "execution_count": 19,
   "metadata": {},
   "outputs": [
    {
     "name": "stdout",
     "output_type": "stream",
     "text": [
      "YYMMDD-XX: ['19950516-2235', '19581212-3213', '19932235-3213']\n"
     ]
    }
   ],
   "source": [
    "person_numbers = \"Ida: 19950516-2235, Berit: 19581212-3213, Ada: 050524-1513, FEL: 19932235-3213\"\n",
    "match_long = re.findall(r\"\\d{8}-\\d{4}\", person_numbers)\n",
    "print(f\"YYYYMMDD-XX: {match_long}\")"
   ]
  },
  {
   "cell_type": "code",
   "execution_count": 1,
   "metadata": {},
   "outputs": [
    {
     "ename": "NameError",
     "evalue": "name 're' is not defined",
     "output_type": "error",
     "traceback": [
      "\u001b[0;31m---------------------------------------------------------------------------\u001b[0m",
      "\u001b[0;31mNameError\u001b[0m                                 Traceback (most recent call last)",
      "Cell \u001b[0;32mIn[1], line 1\u001b[0m\n\u001b[0;32m----> 1\u001b[0m match_short \u001b[38;5;241m=\u001b[39m \u001b[43mre\u001b[49m\u001b[38;5;241m.\u001b[39mfindall(\u001b[38;5;124mr\u001b[39m\u001b[38;5;124m\"\u001b[39m\u001b[38;5;124m\\\u001b[39m\u001b[38;5;124md\u001b[39m\u001b[38;5;124m{\u001b[39m\u001b[38;5;124m4-6}-\u001b[39m\u001b[38;5;124m\\\u001b[39m\u001b[38;5;124md\u001b[39m\u001b[38;5;132;01m{4}\u001b[39;00m\u001b[38;5;124m\"\u001b[39m, person_numbers)\n\u001b[1;32m      2\u001b[0m \u001b[38;5;28mprint\u001b[39m(\u001b[38;5;124mf\u001b[39m\u001b[38;5;124m\"\u001b[39m\u001b[38;5;124mYYMMDD-XX: \u001b[39m\u001b[38;5;132;01m{\u001b[39;00mmatch_short\u001b[38;5;132;01m}\u001b[39;00m\u001b[38;5;124m\"\u001b[39m)\n",
      "\u001b[0;31mNameError\u001b[0m: name 're' is not defined"
     ]
    }
   ],
   "source": [
    "match_short = re.findall(r\"\\d{4-6}-\\d{4}\", person_numbers)\n",
    "print(f\"YYMMDD-XX: {match_short}\")"
   ]
  },
  {
   "cell_type": "code",
   "execution_count": 22,
   "metadata": {},
   "outputs": [
    {
     "name": "stdout",
     "output_type": "stream",
     "text": [
      "['19950516-2235', '19581212-3213', '050524-1513', '19932235-3213']\n"
     ]
    }
   ],
   "source": [
    "my_match = re.findall(r\"\\d+-\\d+\", person_numbers)\n",
    "print(my_match)"
   ]
  }
 ],
 "metadata": {
  "kernelspec": {
   "display_name": ".venv",
   "language": "python",
   "name": "python3"
  },
  "language_info": {
   "codemirror_mode": {
    "name": "ipython",
    "version": 3
   },
   "file_extension": ".py",
   "mimetype": "text/x-python",
   "name": "python",
   "nbconvert_exporter": "python",
   "pygments_lexer": "ipython3",
   "version": "3.12.5"
  }
 },
 "nbformat": 4,
 "nbformat_minor": 2
}
