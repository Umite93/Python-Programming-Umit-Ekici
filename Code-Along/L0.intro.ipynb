{
 "cells": [
  {
   "cell_type": "code",
   "execution_count": 6,
   "metadata": {},
   "outputs": [
    {
     "name": "stdout",
     "output_type": "stream",
     "text": [
      "The number is 4.35\n"
     ]
    }
   ],
   "source": [
    "a = 3.35\n",
    "print(f\"The number is {a+1}\")"
   ]
  },
  {
   "cell_type": "code",
   "execution_count": 1,
   "metadata": {},
   "outputs": [
    {
     "name": "stdout",
     "output_type": "stream",
     "text": [
      "hej\n"
     ]
    }
   ],
   "source": [
    "def f(a, b):\n",
    "    #denna rad tillhör funktion\n",
    "    print(\"Hejsan\")                        \n",
    "#denna rad är utanför\n",
    "print(\"hej\")"
   ]
  },
  {
   "cell_type": "code",
   "execution_count": 2,
   "metadata": {},
   "outputs": [
    {
     "name": "stdout",
     "output_type": "stream",
     "text": [
      "My name is Raphael Korsoski\n",
      "My age is (44, 3)\n",
      "Now my age is My age is (44, 3)\n"
     ]
    }
   ],
   "source": [
    "firstname = \"Raphael\"\n",
    "lastname = \"Korsoski\"\n",
    "age = (44, 3)\n",
    "\n",
    "print(f\"My name is {firstname} {lastname}\")\n",
    "print(f\"My age is {age}\")\n",
    "\n",
    "age = f\"My age is {age}\"\n",
    "\n",
    "print(f\"Now my age is {age}\")"
   ]
  },
  {
   "cell_type": "code",
   "execution_count": 3,
   "metadata": {},
   "outputs": [
    {
     "name": "stdout",
     "output_type": "stream",
     "text": [
      "556565 is 46353 years old\n"
     ]
    }
   ],
   "source": [
    "name = input(\"What is your name?\")\n",
    "age = input(f\"How old are you {name}?\")\n",
    "print(f\"{name} is {age} years old\")"
   ]
  },
  {
   "cell_type": "code",
   "execution_count": 4,
   "metadata": {},
   "outputs": [
    {
     "ename": "ValueError",
     "evalue": "could not convert string to float: ''",
     "output_type": "error",
     "traceback": [
      "\u001b[0;31m---------------------------------------------------------------------------\u001b[0m",
      "\u001b[0;31mValueError\u001b[0m                                Traceback (most recent call last)",
      "Cell \u001b[0;32mIn[4], line 2\u001b[0m\n\u001b[1;32m      1\u001b[0m gravity \u001b[38;5;241m=\u001b[39m \u001b[38;5;241m9.82\u001b[39m\n\u001b[0;32m----> 2\u001b[0m mass \u001b[38;5;241m=\u001b[39m \u001b[38;5;28;43mfloat\u001b[39;49m\u001b[43m(\u001b[49m\u001b[38;5;28;43minput\u001b[39;49m\u001b[43m(\u001b[49m\u001b[38;5;124;43m\"\u001b[39;49m\u001b[38;5;124;43mEnter your weight in kg \u001b[39;49m\u001b[38;5;124;43m\"\u001b[39;49m\u001b[43m)\u001b[49m\u001b[43m)\u001b[49m\n\u001b[1;32m      4\u001b[0m force \u001b[38;5;241m=\u001b[39m gravity \u001b[38;5;241m*\u001b[39m mass\n\u001b[1;32m      5\u001b[0m \u001b[38;5;66;03m# print(f\"You exert a force of {force} N on the ground.\")\u001b[39;00m\n",
      "\u001b[0;31mValueError\u001b[0m: could not convert string to float: ''"
     ]
    }
   ],
   "source": [
    "gravity = 9.82\n",
    "mass = float(input(\"Enter your weight in kg \"))\n",
    "\n",
    "force = gravity * mass\n",
    "# print(f\"You exert a force of {force} N on the ground.\")\n",
    "\n",
    "print(f\"You exert a force of {force:.3f} N on the ground.\")\n",
    "print(f\"{round(force, 3)}\")"
   ]
  },
  {
   "cell_type": "code",
   "execution_count": null,
   "metadata": {},
   "outputs": [
    {
     "name": "stdout",
     "output_type": "stream",
     "text": [
      "Circle with radius 676.9898 has \n",
      " area 2879679.26 units \n",
      " circumference 4253.65 units.\n"
     ]
    }
   ],
   "source": [
    "import numpy as np\n",
    "\n",
    "radius = float(input(\"Enter a radius: \"))\n",
    "area = 2 * np.pi * np.power(radius, 2)\n",
    "circumference = 2*np.pi*radius\n",
    "\n",
    "print(f\"Circle with radius {radius} has \\n \\t area {area:.2f} units \\n \\t circumference {circumference:.2f} units.\")"
   ]
  },
  {
   "cell_type": "code",
   "execution_count": 11,
   "metadata": {},
   "outputs": [
    {
     "data": {
      "text/plain": [
       "{'name': 'Erik', 'surname': 'Korsoski'}"
      ]
     },
     "execution_count": 11,
     "metadata": {},
     "output_type": "execute_result"
    }
   ],
   "source": [
    "a = dict() # {}\n",
    "b = float() \n",
    "c = list() # []\n",
    "a = {\"name\": \"Raphael\", \n",
    "     \"surname\": \"Korsoski\"}\n",
    "\n",
    "a[\"name\"] = \"Erik\"\n",
    "a\n"
   ]
  }
 ],
 "metadata": {
  "kernelspec": {
   "display_name": "Python 3",
   "language": "python",
   "name": "python3"
  },
  "language_info": {
   "codemirror_mode": {
    "name": "ipython",
    "version": 3
   },
   "file_extension": ".py",
   "mimetype": "text/x-python",
   "name": "python",
   "nbconvert_exporter": "python",
   "pygments_lexer": "ipython3",
   "version": "3.12.5"
  }
 },
 "nbformat": 4,
 "nbformat_minor": 2
}
