{
 "cells": [
  {
   "cell_type": "markdown",
   "metadata": {},
   "source": [
    "So far:\n",
    "· I/O\n",
    "· variables\n",
    "· if-while-for (control)\n",
    "· lists\n",
    "· random\n"
   ]
  },
  {
   "cell_type": "code",
   "execution_count": 3,
   "metadata": {},
   "outputs": [
    {
     "name": "stdout",
     "output_type": "stream",
     "text": [
      "\n",
      "Name: Raphael Korsoski\n",
      "School: IT-Högskolan\n",
      "Address: Ebbe Lieberathsgatan\n",
      "Phone: 1-800-school\n",
      "\n"
     ]
    }
   ],
   "source": [
    "firstname = \"Raphael\"\n",
    "lastname = \"Korsoski\"\n",
    "\n",
    "fullname = firstname + \" \" + lastname\n",
    "school = \"IT-Högskolan\"\n",
    "address = \"Ebbe Lieberathsgatan\"\n",
    "phone = \"1-800-school\"\n",
    "\n",
    "contact_details = f\"\"\"\n",
    "Name: {fullname}\n",
    "School: {school}\n",
    "Address: {address}\n",
    "Phone: {phone}\n",
    "\"\"\"\n",
    "\n",
    "print(contact_details)"
   ]
  },
  {
   "cell_type": "code",
   "execution_count": 5,
   "metadata": {},
   "outputs": [
    {
     "name": "stdout",
     "output_type": "stream",
     "text": [
      "Veckomeny\n",
      "Må: Chili sin carne \n",
      "Ti: nudlar \n",
      "On: pokebowl \n",
      "To: Pankakor \n",
      "Fr: Tacos \n",
      "\n"
     ]
    }
   ],
   "source": [
    "bamba = [\"Chili sin carne\", \"nudlar\", \"pokebowl\", \"Pankakor\", \"Tacos\"]\n",
    "days = [\"Må\", \"Ti\", \"On\", \"To\", \"Fr\"]\n",
    "\n",
    "menu = \"Veckomeny\\n\"\n",
    "\n",
    "for day, food in zip(days, bamba):\n",
    "    menu += f\"{day}: {food} \\n\"\n",
    "\n",
    "print(menu)"
   ]
  },
  {
   "cell_type": "code",
   "execution_count": 12,
   "metadata": {},
   "outputs": [
    {
     "name": "stdout",
     "output_type": "stream",
     "text": [
      "quote[0]: !\n",
      "quote[5:10]: e - i\n",
      "quote[-4]: T\n",
      "quote[-4:]: True\n",
      "quote[::-1]: eurT s'ti esuaceb ynnuf s'ti - eslaF!\n",
      "<reversed object at 0x7f89fdd0fb80>\n"
     ]
    }
   ],
   "source": [
    "quote = \"!False - it's funny because it's True\"\n",
    "print(f\"quote[0]: {quote[0]}\")\n",
    "print(f\"quote[5:10]: {quote[5:10]}\")\n",
    "print(f\"quote[-4]: {quote[-4]}\")\n",
    "print(f\"quote[-4:]: {quote[-4:]}\")\n",
    "print(f\"quote[::-1]: {quote[::-1]}\")"
   ]
  },
  {
   "cell_type": "code",
   "execution_count": 18,
   "metadata": {},
   "outputs": [
    {
     "name": "stdout",
     "output_type": "stream",
     "text": [
      "['MATH', 'BIOLOGY', 'CHEMISTRY', 'PROGRAMMING']\n"
     ]
    }
   ],
   "source": [
    "subjects = \"Math, biology, chemistry, programming\"\n",
    "split = subjects.split(\",\")\n",
    "\n",
    "stripped = [sub.strip().upper() for sub in split]\n",
    "print(stripped)"
   ]
  }
 ],
 "metadata": {
  "kernelspec": {
   "display_name": ".venv",
   "language": "python",
   "name": "python3"
  },
  "language_info": {
   "codemirror_mode": {
    "name": "ipython",
    "version": 3
   },
   "file_extension": ".py",
   "mimetype": "text/x-python",
   "name": "python",
   "nbconvert_exporter": "python",
   "pygments_lexer": "ipython3",
   "version": "3.12.5"
  }
 },
 "nbformat": 4,
 "nbformat_minor": 2
}
