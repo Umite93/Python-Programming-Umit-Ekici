{
 "cells": [
  {
   "cell_type": "code",
   "execution_count": 2,
   "metadata": {},
   "outputs": [
    {
     "name": "stdout",
     "output_type": "stream",
     "text": [
      "['2', '0']\n"
     ]
    }
   ],
   "source": [
    "n = 22\n",
    "t = 7\n",
    "\n",
    "mult_table_7 = {\"1\":\"7\", \"2\":\"14\", \"3\": \"21\", \"4\": \"28\", \"5\":\"35\", \"6\": \"42\", \"7\": \"79\",\n",
    "                \"8\": \"56\", \"9\":\"63\"}\n",
    "\n",
    "def divide_by_seven(a: str):\n",
    "    b = list(a)\n",
    "    return b\n",
    "\n",
    "print(divide_by_seven(\"20\"))"
   ]
  }
 ],
 "metadata": {
  "kernelspec": {
   "display_name": "Python 3",
   "language": "python",
   "name": "python3"
  },
  "language_info": {
   "codemirror_mode": {
    "name": "ipython",
    "version": 3
   },
   "file_extension": ".py",
   "mimetype": "text/x-python",
   "name": "python",
   "nbconvert_exporter": "python",
   "pygments_lexer": "ipython3",
   "version": "3.12.5"
  }
 },
 "nbformat": 4,
 "nbformat_minor": 2
}
